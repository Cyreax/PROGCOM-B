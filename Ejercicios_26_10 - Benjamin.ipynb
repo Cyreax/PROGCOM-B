{
  "nbformat": 4,
  "nbformat_minor": 0,
  "metadata": {
    "colab": {
      "provenance": []
    },
    "kernelspec": {
      "name": "python3",
      "display_name": "Python 3"
    },
    "language_info": {
      "name": "python"
    }
  },
  "cells": [
    {
      "cell_type": "code",
      "execution_count": 31,
      "metadata": {
        "colab": {
          "base_uri": "https://localhost:8080/"
        },
        "id": "yHD-iKX4RO0e",
        "outputId": "a918223b-936b-4d59-e963-61872c854e6a"
      },
      "outputs": [
        {
          "output_type": "stream",
          "name": "stdout",
          "text": [
            "Ingrese una palabra: hola\n",
            "jimu\n"
          ]
        }
      ],
      "source": [
        "def cambiar_palabra(palab):\n",
        "    vocal = \"aeiou\"\n",
        "    consonant = \"bcdfghjklmnpqrstvwxyz\"\n",
        "\n",
        "    nueva_palab = \"\"\n",
        "\n",
        "    for letra in palab:\n",
        "        if letra in vocal:\n",
        "            indice = vocal.find(letra)\n",
        "            nueva_letra = vocal[indice-1] if indice-1 >= 0 else vocal[-1]\n",
        "        elif letra in consonant:\n",
        "            indice = consonant.find(letra)\n",
        "            nueva_letra = consonant[indice+1] if indice+1 < len(consonant) else consonant[0]\n",
        "        else:\n",
        "            nueva_letra = letra\n",
        "\n",
        "        nueva_palab += nueva_letra\n",
        "\n",
        "    return nueva_palab\n",
        "\n",
        "palab = input(\"Ingrese una palabra: \")\n",
        "print((cambiar_palabra(palab)))"
      ]
    },
    {
      "cell_type": "code",
      "source": [],
      "metadata": {
        "id": "RWKbrHzthcFR"
      },
      "execution_count": null,
      "outputs": []
    },
    {
      "cell_type": "code",
      "source": [
        "import pandas as pd\n",
        "\n",
        "def imc_m():\n",
        "  nombre = input(\"Ingresa tu nombre: \")\n",
        "  peso = float(input(\"Ingrese su peso en kilogramos: \"))\n",
        "  altura = float(input(\"Ingrese su altura en centímetros: \"))\n",
        "  genero = input(\"Ingrese tu genero h o m: \")\n",
        "\n",
        "  imc = (peso / (altura / 100) ** 2) # Convertir altura a metros para el cálculo de IMC\n",
        "  if imc <= 18.5:\n",
        "    descripcion = \"Bajo Peso\"\n",
        "  elif 18.5 < imc <= 24.9:\n",
        "    descripcion = \"Normal\"\n",
        "  elif 25 < imc <= 29.9:\n",
        "    descripcion = \"Sobrepeso\"\n",
        "  elif 29.9 < imc <= 34.9:\n",
        "   descripcion = \"Obesidad\"\n",
        "  else:\n",
        "   descripcion = \"Obesidad extrema \"\n",
        "\n",
        "  primera_linea = {\"Nombre\": nombre,\"IMC\": imc, \"G\": genero, \"Descripción\": descripcion }\n",
        "  df = pd.DataFrame.from_dict(primera_linea, orient='index')\n",
        "  print(df)\n",
        "\n",
        "def imc_h():\n",
        "  nombre = input(\"Ingresa tu nombre: \")\n",
        "  peso = float(input(\"Ingrese su peso en kilogramos: \"))\n",
        "  altura = float(input(\"Ingrese su altura en centímetros: \"))\n",
        "  genero = input(\"Ingrese tu genero h o m: \")\n",
        "\n",
        "  imc = (peso / (altura / 100) ** 2) # Convertir altura a metros para el cálculo de IMC\n",
        "  if imc <= 18.5:\n",
        "    descripcion = \"Bajo Peso\"\n",
        "  elif 18.5 < imc <= 24.9:\n",
        "    descripcion = \"Normal\"\n",
        "  elif 25 < imc <= 29.9:\n",
        "    descripcion = \"Sobrepeso\"\n",
        "  elif 29.9 < imc <= 34.9:\n",
        "   descripcion = \"Obesidad I\"\n",
        "  elif 34.9 < imc <= 39.9:\n",
        "   descripcion = \"Obesidad II\"\n",
        "  elif 39.9 < imc <= 49.9:\n",
        "   descripcion = \"Obesidad III\"\n",
        "  else:\n",
        "   descripcion = \"Obesidad IV\"\n",
        "\n",
        "  primera_linea = {\"Nombre\": nombre,\"IMC\": imc, \"G\": genero, \"Descripción\": descripcion }\n",
        "  df = pd.DataFrame.from_dict(primera_linea, orient='index')\n",
        "  print(df)\n",
        "\n",
        "\n",
        "if genero ==\"m\":\n",
        "\n",
        "  imc_m()\n",
        "else:\n",
        "\n",
        "  imc_h()\n"
      ],
      "metadata": {
        "colab": {
          "base_uri": "https://localhost:8080/"
        },
        "id": "5eWRur4aVb5u",
        "outputId": "4729e69b-5d82-4d2b-cf29-8c60f6049b59"
      },
      "execution_count": 56,
      "outputs": [
        {
          "output_type": "stream",
          "name": "stdout",
          "text": [
            "Ingresa tu nombre: María\n",
            "Ingrese su peso en kilogramos: 80\n",
            "Ingrese su altura en centímetros: 180\n",
            "Ingrese tu genero h o m: m\n",
            "                     0\n",
            "Nombre           María\n",
            "IMC          24.691358\n",
            "G                    m\n",
            "Descripción     Normal\n"
          ]
        }
      ]
    }
  ]
}